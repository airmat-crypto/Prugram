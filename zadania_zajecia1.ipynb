{
 "cells": [
  {
   "cell_type": "markdown",
   "metadata": {},
   "source": [
    "### Zadania z rodzajami zmiennych liczbowych\n",
    "\n"
   ]
  },
  {
   "cell_type": "markdown",
   "metadata": {},
   "source": [
    "1. Stwórz zmienną `a` o wartości 15 i zmienną `b` o wartości 5. Wypisz ich sumę.\n"
   ]
  },
  {
   "cell_type": "code",
   "execution_count": 1,
   "metadata": {},
   "outputs": [
    {
     "data": {
      "text/plain": [
       "20"
      ]
     },
     "execution_count": 1,
     "metadata": {},
     "output_type": "execute_result"
    }
   ],
   "source": [
    "a=15\n",
    "b=5\n",
    "a + b"
   ]
  },
  {
   "cell_type": "markdown",
   "metadata": {},
   "source": [
    "2. Zdefiniuj zmienną `x` jako liczbę zmiennoprzecinkową (np. 10.5). Pomnóż ją przez 3 i wypisz wynik.\n"
   ]
  },
  {
   "cell_type": "code",
   "execution_count": 2,
   "metadata": {},
   "outputs": [
    {
     "data": {
      "text/plain": [
       "31.5"
      ]
     },
     "execution_count": 2,
     "metadata": {},
     "output_type": "execute_result"
    }
   ],
   "source": [
    "x=10.5\n",
    "x*3"
   ]
  },
  {
   "cell_type": "markdown",
   "metadata": {},
   "source": [
    "3. Przypisz do zmiennej `y` liczbę całkowitą. Następnie oblicz jej kwadrat i wyświetl wynik.\n"
   ]
  },
  {
   "cell_type": "code",
   "execution_count": 7,
   "metadata": {},
   "outputs": [
    {
     "data": {
      "text/plain": [
       "25"
      ]
     },
     "execution_count": 7,
     "metadata": {},
     "output_type": "execute_result"
    }
   ],
   "source": [
    "y=5\n",
    "y ** 2"
   ]
  },
  {
   "cell_type": "markdown",
   "metadata": {},
   "source": [
    "4. Utwórz zmienną `c` i przypisz jej wartość ułamkową, np. `3.14`. Podziel tę wartość przez 2 i wypisz wynik.\n"
   ]
  },
  {
   "cell_type": "code",
   "execution_count": 9,
   "metadata": {},
   "outputs": [
    {
     "data": {
      "text/plain": [
       "1.57"
      ]
     },
     "execution_count": 9,
     "metadata": {},
     "output_type": "execute_result"
    }
   ],
   "source": [
    "c=3.14\n",
    "c / 2"
   ]
  },
  {
   "cell_type": "markdown",
   "metadata": {},
   "source": [
    "5. Wykonaj operację modulo (reszta z dzielenia) dla zmiennych `m = 20` i `n = 6`. Wypisz wynik."
   ]
  },
  {
   "cell_type": "code",
   "execution_count": 12,
   "metadata": {},
   "outputs": [
    {
     "data": {
      "text/plain": [
       "2"
      ]
     },
     "execution_count": 12,
     "metadata": {},
     "output_type": "execute_result"
    }
   ],
   "source": [
    "m=20\n",
    "n=6\n",
    "m % n"
   ]
  },
  {
   "cell_type": "markdown",
   "metadata": {},
   "source": [
    "\n",
    "#### Zadania ze stringami\n",
    "\n"
   ]
  },
  {
   "cell_type": "markdown",
   "metadata": {},
   "source": [
    "6. Przypisz do zmiennej `name` swoje imię. Wypisz to imię za pomocą funkcji `print`.\n"
   ]
  },
  {
   "cell_type": "code",
   "execution_count": 16,
   "metadata": {},
   "outputs": [
    {
     "name": "stdout",
     "output_type": "stream",
     "text": [
      "Mateusz\n"
     ]
    }
   ],
   "source": [
    "name='Mateusz'\n",
    "print(name)"
   ]
  },
  {
   "cell_type": "markdown",
   "metadata": {},
   "source": [
    "7. Utwórz zmienną `greeting`, której wartość to \"Cześć\". Dodaj do niej swoje imię i wypisz pełne powitanie.\n"
   ]
  },
  {
   "cell_type": "code",
   "execution_count": 54,
   "metadata": {},
   "outputs": [
    {
     "data": {
      "text/plain": [
       "'\"Cześć\" Mateusz'"
      ]
     },
     "execution_count": 54,
     "metadata": {},
     "output_type": "execute_result"
    }
   ],
   "source": [
    "greeting='\"Cześć\"'\n",
    "#print(greeting + \" \" + name)\n",
    "greeting + ' ' + 'Mateusz'"
   ]
  },
  {
   "cell_type": "markdown",
   "metadata": {},
   "source": [
    "8. Przypisz do zmiennej `text` dowolny tekst. Wypisz liczbę znaków w tej zmiennej. **Hint:** Użyj funkcji `len` na zmiennej.\n"
   ]
  },
  {
   "cell_type": "code",
   "execution_count": 30,
   "metadata": {},
   "outputs": [
    {
     "name": "stdout",
     "output_type": "stream",
     "text": [
      "17\n"
     ]
    }
   ],
   "source": [
    "text=\" Wstawaj do pracy\"\n",
    "print (len(text))"
   ]
  },
  {
   "cell_type": "markdown",
   "metadata": {},
   "source": [
    "9. Stwórz dwie zmienne `a = \"Hello\"` i `b = \"World\"`. Połącz te zmienne i wypisz wynik.\n"
   ]
  },
  {
   "cell_type": "code",
   "execution_count": 64,
   "metadata": {},
   "outputs": [
    {
     "data": {
      "text/plain": [
       "'\"Hello\"\"World\"'"
      ]
     },
     "execution_count": 64,
     "metadata": {},
     "output_type": "execute_result"
    }
   ],
   "source": [
    "a='\"Hello\"'\n",
    "b='\"World\"' \n",
    "a+b"
   ]
  },
  {
   "cell_type": "markdown",
   "metadata": {},
   "source": [
    "10. Utwórz zmienną `quote` zawierającą cytat. Wypisz go, użyjąc cudzysłowów w tekście."
   ]
  },
  {
   "cell_type": "code",
   "execution_count": 65,
   "metadata": {},
   "outputs": [
    {
     "name": "stdout",
     "output_type": "stream",
     "text": [
      "\"piekna \"dzis\" pogoda\n"
     ]
    }
   ],
   "source": [
    "quote='\"piekna \"dzis\" pogoda'\n",
    "print(quote)"
   ]
  },
  {
   "cell_type": "markdown",
   "metadata": {},
   "source": [
    "\n",
    "#### Zadania z funkcją `print`\n"
   ]
  },
  {
   "cell_type": "markdown",
   "metadata": {},
   "source": [
    "11. Wypisz na ekranie swoje imię, nazwisko i wiek w jednej linii.\n"
   ]
  },
  {
   "cell_type": "code",
   "execution_count": 66,
   "metadata": {},
   "outputs": [
    {
     "name": "stdout",
     "output_type": "stream",
     "text": [
      "Mateusz Flis 29lat \n"
     ]
    }
   ],
   "source": [
    "print('Mateusz Flis 29lat ')"
   ]
  },
  {
   "cell_type": "markdown",
   "metadata": {},
   "source": [
    "12. Stwórz zmienne `x = 5` i `y = 10`. Użyj funkcji `print`, aby wypisać: \"Wartość x to 5, a y to 10\".\n"
   ]
  },
  {
   "cell_type": "code",
   "execution_count": 77,
   "metadata": {},
   "outputs": [
    {
     "name": "stdout",
     "output_type": "stream",
     "text": [
      "wartosc x to 5 , a y to 10\n"
     ]
    }
   ],
   "source": [
    "x=5\n",
    "y=10\n",
    "print(f'wartosc x to {x} , a y to {y}')"
   ]
  },
  {
   "cell_type": "markdown",
   "metadata": {},
   "source": [
    "13. Wypisz na ekranie kilka linii tekstu, użyjąc znaku nowej linii (`\\n`).\n"
   ]
  },
  {
   "cell_type": "code",
   "execution_count": 84,
   "metadata": {},
   "outputs": [
    {
     "name": "stdout",
     "output_type": "stream",
     "text": [
      "ola ma kota \n",
      "a robert nie tymczasem \n",
      "kasia robi herbate\n"
     ]
    }
   ],
   "source": [
    "print('ola ma kota \\na robert nie tymczasem \\nkasia robi herbate')"
   ]
  },
  {
   "cell_type": "markdown",
   "metadata": {},
   "source": [
    "14. Użyj funkcji `print`, aby wypisać \"Python jest fajny!\" trzykrotnie, użyjąc jednej komendy.\n"
   ]
  },
  {
   "cell_type": "code",
   "execution_count": 93,
   "metadata": {},
   "outputs": [
    {
     "name": "stdout",
     "output_type": "stream",
     "text": [
      "\"Python jest fajny\"\n",
      "\"Python jest fajny\"\n",
      "\"Python jest fajny\"\n",
      "\n"
     ]
    }
   ],
   "source": [
    "print('\"Python jest fajny\"\\n' *3)"
   ]
  },
  {
   "cell_type": "markdown",
   "metadata": {},
   "source": [
    "15. Wypisz na ekranie tekst z użyciem znaku tabulacji (`\\t`), aby wyrównać elementy.\n"
   ]
  },
  {
   "cell_type": "code",
   "execution_count": 108,
   "metadata": {},
   "outputs": [
    {
     "name": "stdout",
     "output_type": "stream",
     "text": [
      "Nazwa kursu\tCzas trwania\t\n",
      "python\t\t88h\n"
     ]
    }
   ],
   "source": [
    "print ('Nazwa kursu\\tCzas trwania\\t')\n",
    "print ('python\\t\\t88h')"
   ]
  },
  {
   "cell_type": "markdown",
   "metadata": {},
   "source": [
    "\n",
    "#### Zadania ze zmiennymi\n"
   ]
  },
  {
   "cell_type": "markdown",
   "metadata": {},
   "source": [
    "16. Przypisz do zmiennej `a` wartość 10, a do zmiennej `b` wartość 20. Następnie zamień wartości zmiennych miejscami. **Hint:** Nie było ale pogłówkujcie ;) \n"
   ]
  },
  {
   "cell_type": "code",
   "execution_count": 120,
   "metadata": {},
   "outputs": [
    {
     "name": "stdout",
     "output_type": "stream",
     "text": [
      "20 10\n"
     ]
    }
   ],
   "source": [
    "a=10\n",
    "b=20\n",
    "a,b=b,a\n",
    "\n",
    "print(a,b)"
   ]
  },
  {
   "cell_type": "markdown",
   "metadata": {},
   "source": [
    "17. Stwórz zmienną `suma` i przypisz do niej sumę dwóch liczb, np. `a = 7` i `b = 8`. Wypisz wynik.\n"
   ]
  },
  {
   "cell_type": "code",
   "execution_count": 123,
   "metadata": {},
   "outputs": [
    {
     "name": "stdout",
     "output_type": "stream",
     "text": [
      "15\n"
     ]
    }
   ],
   "source": [
    "suma=a+b\n",
    "a=7\n",
    "b=8\n",
    "print(suma)"
   ]
  },
  {
   "cell_type": "markdown",
   "metadata": {},
   "source": [
    "18. Utwórz zmienną `wiek` i przypisz do niej wartość liczbową. Następnie wypisz zdanie: \"Mam X lat\", gdzie X to wartość zmiennej `wiek`. **Hint:** Użyj f-stringa, aby w łatwy sposób wstawić wartość zmiennej do tekstu, np. `print(f\"{zmienna}\")`.\n"
   ]
  },
  {
   "cell_type": "code",
   "execution_count": 126,
   "metadata": {},
   "outputs": [
    {
     "name": "stdout",
     "output_type": "stream",
     "text": [
      "Mam 29 lat\n"
     ]
    }
   ],
   "source": [
    "wiek=29\n",
    "print(f'Mam {wiek} lat')"
   ]
  },
  {
   "cell_type": "markdown",
   "metadata": {},
   "source": [
    "19. Zdefiniuj zmienną `temperature` i przypisz do niej wartość liczbową. Wypisz: \"Dzisiejsza temperatura to X stopni\", gdzie X to wartość zmiennej."
   ]
  },
  {
   "cell_type": "code",
   "execution_count": 129,
   "metadata": {},
   "outputs": [
    {
     "name": "stdout",
     "output_type": "stream",
     "text": [
      "Dzisiejsza temperatura to 25 stopni\n"
     ]
    }
   ],
   "source": [
    "temeperature=25\n",
    "print(f'Dzisiejsza temperatura to {temeperature} stopni')"
   ]
  }
 ],
 "metadata": {
  "kernelspec": {
   "display_name": "Python 3",
   "language": "python",
   "name": "python3"
  },
  "language_info": {
   "codemirror_mode": {
    "name": "ipython",
    "version": 3
   },
   "file_extension": ".py",
   "mimetype": "text/x-python",
   "name": "python",
   "nbconvert_exporter": "python",
   "pygments_lexer": "ipython3",
   "version": "3.13.0"
  }
 },
 "nbformat": 4,
 "nbformat_minor": 2
}
